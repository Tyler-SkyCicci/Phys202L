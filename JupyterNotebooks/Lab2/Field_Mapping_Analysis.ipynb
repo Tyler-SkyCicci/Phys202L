{
  "cells": [
    {
      "cell_type": "markdown",
      "metadata": {
        "id": "MQL7phClKkig"
      },
      "source": [
        "# Lab 2:  Electric Field Mapping"
      ]
    },
    {
      "cell_type": "code",
      "execution_count": 1,
      "metadata": {
        "id": "fqHChelWKkih"
      },
      "outputs": [],
      "source": [
        "import numpy as np\n",
        "import pandas as pd\n",
        "import matplotlib.pyplot as plt\n",
        "import scipy.stats as stats\n",
        "# Lab Members: Tyler/Sky Cicci, Alex Zannelli, Atticus Wingfield, Noah Kneessi\n",
        "# The following lines make plots in dark mode look reasonable.  If you are not using dark\n",
        "# mode you don't need them, but you can also just leave them here and it should work fine.\n",
        "\n",
        "dark_mode = False\n",
        "# plotting choices for dark-mode\n",
        "if (dark_mode):\n",
        "    from jupyterthemes import jtplot\n",
        "    jtplot.style(theme='monokai', context='notebook', ticks=True, grid=False)\n",
        "    linecolor = 'w'\n",
        "else:\n",
        "    linecolor = 'k'"
      ]
    },
    {
      "cell_type": "markdown",
      "metadata": {
        "id": "8JFsrrFEKkii"
      },
      "source": [
        "# Parallel Plates - Small Distance"
      ]
    },
    {
      "cell_type": "code",
      "execution_count": 5,
      "metadata": {
        "colab": {
          "base_uri": "https://localhost:8080/"
        },
        "id": "kmZHmC3UKkii",
        "outputId": "025208ef-9aec-4169-c2ff-ec9da4d51d33"
      },
      "outputs": [
        {
          "output_type": "stream",
          "name": "stdout",
          "text": [
            "   V   dV  x_cm  dx_cm\n",
            " 2.0 0.02  1.70   0.01\n",
            " 4.0 0.02  3.10   0.01\n",
            " 6.0 0.02  4.30   0.01\n",
            " 8.0 0.02  5.55   0.01\n",
            "10.0 0.02  6.20   0.01\n"
          ]
        }
      ],
      "source": [
        "# Create a Pandas DataFrame with data for part 1\n",
        "\n",
        "# The data elements are [V, dV, x_cm, dx_cm]\n",
        "\n",
        "data = [[2.00,0.02,1.70,0.01], [4.00,0.02,3.10,0.01], \n",
        "        [6.00,0.02,4.3,0.01], [8.00,0.02,5.55,0.01], [10.00,0.02,6.20,0.01]]\n",
        "# create dataframe\n",
        "df = pd.DataFrame(data, columns = ['V', 'dV','x_cm','dx_cm'])\n",
        "\n",
        "print(df.to_string(index=False))"
      ]
    },
    {
      "cell_type": "code",
      "execution_count": 6,
      "metadata": {
        "colab": {
          "base_uri": "https://localhost:8080/"
        },
        "id": "UYJBqbITKkij",
        "outputId": "3d7c0252-4b05-4410-cd6b-49d9d99010f5"
      },
      "outputs": [
        {
          "output_type": "stream",
          "name": "stdout",
          "text": [
            "   V   dV  x_cm  dx_cm      x     dx\n",
            " 2.0 0.02  1.70   0.01 0.0170 0.0001\n",
            " 4.0 0.02  3.10   0.01 0.0310 0.0001\n",
            " 6.0 0.02  4.30   0.01 0.0430 0.0001\n",
            " 8.0 0.02  5.55   0.01 0.0555 0.0001\n",
            "10.0 0.02  6.20   0.01 0.0620 0.0001\n"
          ]
        }
      ],
      "source": [
        "df['x'] = 0.01*df['x_cm']\n",
        "df['dx'] = 0.01*df['dx_cm']\n",
        "\n",
        "print(df.to_string(index=False))"
      ]
    },
    {
      "cell_type": "code",
      "execution_count": 7,
      "metadata": {
        "colab": {
          "base_uri": "https://localhost:8080/",
          "height": 618
        },
        "id": "WxJGnwfjKkik",
        "outputId": "05b7066e-8c8d-45fa-b3c5-07c85ae8c1f4"
      },
      "outputs": [
        {
          "output_type": "stream",
          "name": "stdout",
          "text": [
            "Beta: [173.33485325  -1.22806334]\n",
            "Beta Std Error: [11.61421073  0.51992142]\n",
            "Beta Covariance: [[ 0.52843647 -0.0220358 ]\n",
            " [-0.0220358   0.00105898]]\n",
            "Residual Variance: 255.2622658586255\n",
            "Inverse Condition #: 0.01587061928753176\n",
            "Reason(s) for Halting:\n",
            "  Sum of squares convergence\n",
            "\n",
            "Final Result: Y = (173.334853247 +/- 11.614210731) X + (-1.228063337 +/- 0.519921420)\n"
          ]
        },
        {
          "output_type": "display_data",
          "data": {
            "image/png": "[encoded data removed]",
            "text/plain": [
              "<Figure size 640x480 with 1 Axes>"
            ]
          },
          "metadata": {
            "needs_background": "light"
          }
        }
      ],
      "source": [
        "xi = df['x']\n",
        "yi = df['V']\n",
        "sigmaxi = df['dx']\n",
        "sigmayi = df['dV']\n",
        "\n",
        "##############################\n",
        "\n",
        "from scipy.odr import *\n",
        "\n",
        "def fitfunction(B, x):\n",
        "    '''Linear function y = m*x + b'''\n",
        "    # B is a vector of the parameters.\n",
        "    # x is an array of the current x values.\n",
        "    # x is in the same format as the x passed to Data or RealData.\n",
        "    #\n",
        "    # Return an array in the same format as y passed to Data or RealData.\n",
        "    return B[0]*x + B[1]\n",
        "\n",
        "linear = Model(fitfunction) # create a Model object based on the fitfuncion we have defined\n",
        "mydata = RealData(xi, yi, sx=sigmaxi, sy=sigmayi) # create a data object based on our data, include errors.\n",
        "myodr = ODR(mydata, linear, beta0=[1., 2.]) # create a fitting object, based on the data, fit Model, and an intial set of parameters.\n",
        "myoutput = myodr.run()  # run the fitting process to get optimized parameters!\n",
        "\n",
        "myoutput.pprint() # print out the result of the fit\n",
        "\n",
        "# Now assign the important fit results to some more convenient variables.\n",
        "\n",
        "popt = myoutput.beta # the vector of optimized parameters\n",
        "pcov = myoutput.cov_beta # the covariance matrix\n",
        "perr = myoutput.sd_beta # the vector of ERRORS in the optimized parameters\n",
        "\n",
        "# The following lines generate upper and lower 99% \"Confidence Bands\" on the fit, for visualization\n",
        "# purposes.\n",
        "\n",
        "ps = np.random.multivariate_normal(popt,pcov,10000)\n",
        "ysample=np.asarray([fitfunction(pi,xi) for pi in ps])\n",
        "\n",
        "lower = np.percentile(ysample,0.5,axis=0)\n",
        "upper = np.percentile(ysample,99.5,axis=0)\n",
        "middle = (lower+upper)/2.0\n",
        "\n",
        "print()\n",
        "print (\"Final Result: Y = (%0.9f +/- %0.9f) X + (%0.9f +/- %0.9f)\" % (popt[0],perr[0],popt[1],perr[1]))\n",
        "\n",
        "plt.figure(figsize=(8, 6), dpi=80)\n",
        "\n",
        "plt.errorbar(xi, yi, xerr=sigmaxi, yerr=sigmayi, fmt='o', capsize=2, capthick=1)\n",
        "\n",
        "plt.plot(xi,middle)\n",
        "plt.plot(xi,lower)\n",
        "plt.plot(xi,upper)\n",
        "\n",
        "#########################\n",
        "\n",
        "plt.xlabel('Distance (meters)')\n",
        "plt.ylabel('Voltage (Volts)')\n",
        "plt.title('Parallel Plates - Small Distance Configuration')\n",
        "plt.show()"
      ]
    },
    {
      "cell_type": "code",
      "execution_count": 8,
      "metadata": {
        "colab": {
          "base_uri": "https://localhost:8080/"
        },
        "id": "6JmMUKmnKkil",
        "outputId": "c61960c7-2b74-4f86-94b5-1b2833ae6187"
      },
      "outputs": [
        {
          "output_type": "stream",
          "name": "stdout",
          "text": [
            "Expected Electric Field = 141.2 +/- 2.0\n"
          ]
        }
      ],
      "source": [
        "# Expected Electric Field calculation\n",
        "\n",
        "d_plates = 8.5*0.01\n",
        "dd_plates = 0.05*0.01\n",
        "\n",
        "V_plates = 12.0\n",
        "dV_plates = 0.1\n",
        "\n",
        "E_expected = V_plates/d_plates\n",
        "dE_expected = E_expected*(dV_plates/V_plates+dd_plates/d_plates)\n",
        "\n",
        "print(\"Expected Electric Field = %0.1f +/- %0.1f\" % (E_expected,dE_expected))"
      ]
    },
    {
      "cell_type": "markdown",
      "metadata": {
        "id": "70bORrskKkil"
      },
      "source": [
        "## Analysis of Voltage vs. Position Result\n",
        "\n",
        "First of all, we see that this is a pretty good linear fit!\n",
        "\n",
        "Second, we see that the result for the y-intercept (b) is $(0.494 \\pm 0.082)$ Volts.  This is close to zero, but still inconsistent with our expectations.\n",
        "\n",
        "Third, we see that the average electric field (the slope) that we were trying to determine is\n",
        "$(169.9 \\pm 2.3)$ Volts per meter.  Based on the calculation of the expected value (in the next cell), we are not in agreement with that result.  Why?"
      ]
    },
    {
      "cell_type": "markdown",
      "metadata": {
        "id": "zYFGr9qXKkil"
      },
      "source": [
        "# Parallel Plates - Large Distance\n",
        "\n",
        "Complete the analysis for the large distance configuration, based on the analysis above."
      ]
    },
    {
      "cell_type": "markdown",
      "source": [
        "The fit of the graph is linear which is good, and in line with our expectations.\n",
        "The result for the y intercept is $(-1.23 +/- 0.520)$ volts which isnt super close to zero, but not too far either. However it is still inconsistent with our expectation that it would be zero.\n",
        "\n",
        "We can see that the average electric field(determined by the slope) is $(173.3 +/- 11.6)$ volts per meter. Which is quite far off from the expected value of $(141.2 +/- 2.0)$ volts per meter, and is not within the bounds of uncertainty. There is probably something in out execution of the experiment, it could be errors when measuring volts, or the choice of how we measured distance. In our experiment we measured the distance from each of the volt markings to 0 volts, however something could be said about how this could change if we changed how we measured distance, such as if we measured from the center."
      ],
      "metadata": {
        "id": "RfrqbdnyNBa7"
      }
    },
    {
      "cell_type": "code",
      "source": [
        ""
      ],
      "metadata": {
        "id": "o5joD2h4QZcV"
      },
      "execution_count": null,
      "outputs": []
    },
    {
      "cell_type": "code",
      "execution_count": null,
      "metadata": {
        "id": "xvE7-f__Kkim"
      },
      "outputs": [],
      "source": [
        ""
      ]
    }
  ],
  "metadata": {
    "kernelspec": {
      "display_name": "Python 3",
      "language": "python",
      "name": "python3"
    },
    "language_info": {
      "codemirror_mode": {
        "name": "ipython",
        "version": 3
      },
      "file_extension": ".py",
      "mimetype": "text/x-python",
      "name": "python",
      "nbconvert_exporter": "python",
      "pygments_lexer": "ipython3",
      "version": "3.6.8"
    },
    "latex_envs": {
      "LaTeX_envs_menu_present": true,
      "autoclose": false,
      "autocomplete": true,
      "bibliofile": "biblio.bib",
      "cite_by": "apalike",
      "current_citInitial": 1,
      "eqLabelWithNumbers": true,
      "eqNumInitial": 1,
      "hotkeys": {
        "equation": "Ctrl-E",
        "itemize": "Ctrl-I"
      },
      "labels_anchors": false,
      "latex_user_defs": false,
      "report_style_numbering": false,
      "user_envs_cfg": false
    },
    "colab": {
      "name": "Field_Mapping_Analysis.ipynb",
      "provenance": []
    }
  },
  "nbformat": 4,
  "nbformat_minor": 0
}